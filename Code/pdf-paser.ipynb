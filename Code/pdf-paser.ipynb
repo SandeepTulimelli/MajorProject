{
 "cells": [
  {
   "cell_type": "code",
   "execution_count": 1,
   "metadata": {},
   "outputs": [
    {
     "name": "stdout",
     "output_type": "stream",
     "text": [
      "['S. V. MADHAVA REDDY\\nCreative Programmer\\n@ madhavso2018@gmail.com\\n� +91 9347156120\\n� Vijayawada, India\\n� madhav-somula/\\nSUMMARY\\nDedicated and results-driven computer science and engineering\\nstudent with a strong passion for data analysis, machine learning,\\nand web development. Seeking a position to apply my technical\\nskills and innovative mindset to solve complex problems and con-\\ntribute to an organization’s success.\\nEDUCATION\\nB.Tech in Computer Science and Engineering (AIML)\\nNRI Institute of Technology\\n�\\n2020 – 2024\\n� Pothavarappadu\\n• CGPA : 7.9\\nBoard of Intermediate Education AP - MPC\\nSri Chaitanya Educational Institutions\\n�\\n2018 – 2020\\n� Vijayawada\\n• CGPA : 8.4\\nAndhra Pradesh Board of Secondary Education\\nR. K. High School\\n�\\n2017 – 2018\\n� Vijayawada\\n• CGPA : 9.2\\nPROJECTS\\nData Extractor\\n• TripAdvisor Reviews\\n• EAPCET\\n• Flipkart\\n• Academic Performance\\nCovid-19 Cases Prediction using Machine Learning\\nDeveloped machine learning models to predict COVID-19 cases,\\naiding in proactive public health measures.\\nOnline Prices Monitor Bot\\nDesigned and implemented a real-time price monitoring Telegram\\nbot.\\nSKILLS\\n• Technical Skills:\\n• Programming Languages: Python, Java,\\nC\\n• Data Analysis: Pandas, NumPy\\n• Web Development: HTML, CSS, JavaScript\\n• Database: MySQL, Oracle\\n• Tools:\\n• Data Visualization: Matplotlib, Seaborn\\n• Web Scraping: BeautifulSoup, Selenium\\n• Machine Learning: TensorFlow, scikit-\\nlearn\\n• IDEs: Visual Studio Code, PyCharm\\nEXPERIENCE\\nJune 2022-September 2022\\nIntern, Blackbucks Engineers PVT LTD\\n� Hyderabad,India\\nResponsibilities:\\n• Collected, organized, and entered critical\\ndata.\\n• Coordinated project presentations and\\ncreated reports for top management.\\n• Utilized Python and Machine Learning for\\nthe role.\\nCERTIFICATIONS\\n• Microsoft Certiﬁed\\nDevOps Engineer Expert\\n� Mar – 2023\\n• BlackBucks Engineers PVT LTD\\nInternship Experience Letter\\n� Nov – 2022\\n• IBM Certiﬁcation from Coursera\\nPython Project for Data Engineering\\n� Oct – 2022\\n', ' EXPERIENCE\\nEDUCATION\\nSKILLS\\nCERTIFICATIONS\\nVijayawada, India\\nmadalasaranya974@gmail.com\\n+91   9666486245\\nSARANYA MADALA\\nTech Enthusiast\\nCollected, structured, and entered vital data into the system\\nOrchestrated engaging project presentations, delivering\\nsuccinct updates to senior staff, thereby facilitating informed\\ndecision-making.\\nProduced comprehensive reports outlining discoveries and\\noffering strategic recommendations\\nBlackBucks Engineers Pvt Ltd | 06/2022- 09/2022\\nPrepared and distributed reports, presentations, and other\\nmaterials\\nHandled confidential documents and maintained their proper\\norganization\\nCoordinated travel arrangements and accommodations for\\nexecutives and guests\\nStatSkew | 07/2023 - 08/2023\\nComputer Science and Engineering(AIML)\\n2020 - 2024\\nMPC\\n2018 – 2020\\nProgramming Languages:  Java, Python,\\nC\\nSoftware Development: Agile\\nmethodologies, SDLC.\\nVersion Control : Git\\nDatabase Management: SQL, MySQL,\\nMongoDB\\nData Scraping : Selenium, BeautifulSoup\\nFront-end Development: HTML, CSS,\\nJavaScript\\nNetworking: TCP/IP, DNS,\\nHTTP/HTTPS\\nOperating Systems: Linux, Windows.\\nObject-Oriented Programming (OOP)\\nEffective communication and analytical\\nproficiency. \\nPython project for Data Engineering\\nComputer Vision and Image processing\\nSQL Bootcamp from zero to Hero\\nPower BI\\nIntern\\nIntern\\nNRI Institute of Technology\\nSri Chaitanya Educational Institutions\\nhttps://www.linkedin.com/in/saranyamadala/\\nCGPA : 8.45\\nCGPA : 9.6\\nChukkapalli High School \\nHigh School\\n2006 - 2018\\nCGPA : 9.8\\nLANGUAGES\\nENGLISH (FLUENT)\\nTELUGU (NATIVE)\\nPERSONAL PROJECTS\\n Data Extractor \\n1.\\nTripAdvisor Ratings\\nEAPCET\\nFlipkart\\nAcademic Performance\\n2. EAPCET Counselling bot\\nDeveloped and executed a Guidance Bot platform to streamline\\nthe counseling process for students, resulting in a 40%\\nreduction in average response time and ensuring personalized\\nassistance throughout the entire decision-making journey.\\nUNIVERSITY PROJECTS\\n1. FIFA Analysis                   \\nDirected the FIFA Analysis Project, leveraging data-driven\\ninsights to elevate team performance strategies, resulting in\\na 15% improvement in player development optimization.\\n(06/2022 - 09/2022)\\n2.Multiple Disease prediction system\\nEngineered and optimized a state-of-the-art Multiple Disease Prediction\\nSystem, leveraging advanced machine learning algorithms. Significantly\\nimproved predictive analytics and healthcare diagnostics.\\n(In-Progress)\\n VOLUNTEER EXPERIENCE\\nLed the coordination of Microsoft exams for university students from\\ndiverse departments during my third year of engineering, highlighting\\norganizational and leadership capabilities. Demonstrated adeptness in\\ncritical thinking and solution-oriented approaches.\\nACHIEVEMENTS\\nParticipant in the Startathon event held during\\nthe university festival, showcasing strong\\ninitiative and commitment to innovation.\\n']\n",
      "2\n"
     ]
    }
   ],
   "source": [
    "import fitz  # PyMuPDF\n",
    "\n",
    "def read_pdf(file_path):\n",
    "    total = []\n",
    "    for path in file_path:\n",
    "        text = \"\"\n",
    "        with fitz.open(path) as pdf_document:\n",
    "            num_pages = pdf_document.page_count\n",
    "            for page_number in range(num_pages):\n",
    "                page = pdf_document[page_number]\n",
    "                text += page.get_text()\n",
    "        total.append(text)\n",
    "    return total\n",
    "\n",
    "# Example usage:\n",
    "pdf_file_path = [\"sample.pdf\",\"sample2.pdf\"]\n",
    "resumes = read_pdf(pdf_file_path)\n",
    "print(resumes)\n",
    "print(len(resumes))\n"
   ]
  },
  {
   "cell_type": "code",
   "execution_count": 2,
   "metadata": {},
   "outputs": [],
   "source": [
    "import nltk\n",
    "from nltk.corpus import stopwords\n",
    "from nltk.tokenize import word_tokenize\n",
    "\n",
    "def preprocess_text(text):\n",
    "    stop_words = set(stopwords.words('english'))\n",
    "    words = word_tokenize(text)\n",
    "    words = [word.lower() for word in words if word.isalnum()]\n",
    "    words = [word for word in words if word not in stop_words]\n",
    "    return ' '.join(words)\n",
    "\n",
    "preprocessed_resumes = [preprocess_text(resume) for resume in resumes]"
   ]
  },
  {
   "cell_type": "code",
   "execution_count": 3,
   "metadata": {},
   "outputs": [
    {
     "data": {
      "text/plain": [
       "['madhava reddy creative programmer madhavso2018 9347156120 vijayawada india summary dedicated computer science engineering student strong passion data analysis machine learning web development seeking position apply technical skills innovative mindset solve complex problems tribute organization success education computer science engineering aiml nri institute technology 2020 2024 pothavarappadu cgpa board intermediate education ap mpc sri chaitanya educational institutions 2018 2020 vijayawada cgpa andhra pradesh board secondary education high school 2017 2018 vijayawada cgpa projects data extractor tripadvisor reviews eapcet flipkart academic performance cases prediction using machine learning developed machine learning models predict cases aiding proactive public health measures online prices monitor bot designed implemented price monitoring telegram bot skills technical skills programming languages python java c data analysis pandas numpy web development html css javascript database mysql oracle tools data visualization matplotlib seaborn web scraping beautifulsoup selenium machine learning tensorflow learn ides visual studio code pycharm experience june 2022 intern blackbucks engineers pvt ltd hyderabad india responsibilities collected organized entered critical data coordinated project presentations created reports top management utilized python machine learning role certifications microsoft certiﬁed devops engineer expert mar 2023 blackbucks engineers pvt ltd internship experience letter nov 2022 ibm certiﬁcation coursera python project data engineering oct 2022',\n",
       " 'experience education skills certifications vijayawada india madalasaranya974 9666486245 saranya madala tech enthusiast collected structured entered vital data system orchestrated engaging project presentations delivering succinct updates senior staff thereby facilitating informed produced comprehensive reports outlining discoveries offering strategic recommendations blackbucks engineers pvt ltd prepared distributed reports presentations materials handled confidential documents maintained proper organization coordinated travel arrangements accommodations executives guests statskew computer science engineering aiml 2020 2024 mpc 2018 2020 programming languages java python c software development agile methodologies sdlc version control git database management sql mysql mongodb data scraping selenium beautifulsoup development html css javascript networking dns operating systems linux windows programming oop effective communication analytical proficiency python project data engineering computer vision image processing sql bootcamp zero hero power bi intern intern nri institute technology sri chaitanya educational institutions https cgpa cgpa chukkapalli high school high school 2006 2018 cgpa languages english fluent telugu native personal projects data extractor 1 tripadvisor ratings eapcet flipkart academic performance 2 eapcet counselling bot developed executed guidance bot platform streamline counseling process students resulting 40 reduction average response time ensuring personalized assistance throughout entire journey university projects 1 fifa analysis directed fifa analysis project leveraging insights elevate team performance strategies resulting 15 improvement player development optimization disease prediction system engineered optimized multiple disease prediction system leveraging advanced machine learning algorithms significantly improved predictive analytics healthcare diagnostics volunteer experience led coordination microsoft exams university students diverse departments third year engineering highlighting organizational leadership capabilities demonstrated adeptness critical thinking approaches achievements participant startathon event held university festival showcasing strong initiative commitment innovation']"
      ]
     },
     "execution_count": 3,
     "metadata": {},
     "output_type": "execute_result"
    }
   ],
   "source": [
    "preprocessed_resumes"
   ]
  },
  {
   "cell_type": "code",
   "execution_count": 4,
   "metadata": {},
   "outputs": [],
   "source": [
    "from gensim import corpora, models\n",
    "\n",
    "# Assuming you've preprocessed the resumes and stored them in 'preprocessed_resumes'\n",
    "dictionary = corpora.Dictionary([resume.split() for resume in preprocessed_resumes])\n",
    "corpus = [dictionary.doc2bow(resume.split()) for resume in preprocessed_resumes]\n",
    "lda_model = models.LdaModel(corpus, num_topics=5, id2word=dictionary)\n"
   ]
  },
  {
   "cell_type": "code",
   "execution_count": 7,
   "metadata": {},
   "outputs": [
    {
     "name": "stdout",
     "output_type": "stream",
     "text": [
      "LdaModel<num_terms=301, num_topics=5, decay=0.5, chunksize=2000>\n"
     ]
    }
   ],
   "source": [
    "print(lda_model)"
   ]
  },
  {
   "cell_type": "code",
   "execution_count": 8,
   "metadata": {},
   "outputs": [
    {
     "ename": "ValueError",
     "evalue": "Found array with dim 3. check_pairwise_arrays expected <= 2.",
     "output_type": "error",
     "traceback": [
      "\u001b[1;31m---------------------------------------------------------------------------\u001b[0m",
      "\u001b[1;31mValueError\u001b[0m                                Traceback (most recent call last)",
      "\u001b[1;32m~\\AppData\\Local\\Temp\\ipykernel_25660\\1226734887.py\u001b[0m in \u001b[0;36m<cell line: 8>\u001b[1;34m()\u001b[0m\n\u001b[0;32m      6\u001b[0m \u001b[1;33m\u001b[0m\u001b[0m\n\u001b[0;32m      7\u001b[0m \u001b[1;31m# Calculate cosine similarity\u001b[0m\u001b[1;33m\u001b[0m\u001b[1;33m\u001b[0m\u001b[1;33m\u001b[0m\u001b[0m\n\u001b[1;32m----> 8\u001b[1;33m \u001b[0msimilarity_score\u001b[0m \u001b[1;33m=\u001b[0m \u001b[0mcosine_similarity\u001b[0m\u001b[1;33m(\u001b[0m\u001b[1;33m[\u001b[0m\u001b[0mresume_topics\u001b[0m\u001b[1;33m]\u001b[0m\u001b[1;33m,\u001b[0m \u001b[1;33m[\u001b[0m\u001b[0mjob_description_topics\u001b[0m\u001b[1;33m]\u001b[0m\u001b[1;33m)\u001b[0m\u001b[1;33m[\u001b[0m\u001b[1;36m0\u001b[0m\u001b[1;33m]\u001b[0m\u001b[1;33m[\u001b[0m\u001b[1;36m0\u001b[0m\u001b[1;33m]\u001b[0m\u001b[1;33m\u001b[0m\u001b[1;33m\u001b[0m\u001b[0m\n\u001b[0m",
      "\u001b[1;32mc:\\Users\\madha\\AppData\\Local\\Programs\\Python\\Python39\\lib\\site-packages\\sklearn\\metrics\\pairwise.py\u001b[0m in \u001b[0;36mcosine_similarity\u001b[1;34m(X, Y, dense_output)\u001b[0m\n\u001b[0;32m   1349\u001b[0m     \u001b[1;31m# to avoid recursive import\u001b[0m\u001b[1;33m\u001b[0m\u001b[1;33m\u001b[0m\u001b[1;33m\u001b[0m\u001b[0m\n\u001b[0;32m   1350\u001b[0m \u001b[1;33m\u001b[0m\u001b[0m\n\u001b[1;32m-> 1351\u001b[1;33m     \u001b[0mX\u001b[0m\u001b[1;33m,\u001b[0m \u001b[0mY\u001b[0m \u001b[1;33m=\u001b[0m \u001b[0mcheck_pairwise_arrays\u001b[0m\u001b[1;33m(\u001b[0m\u001b[0mX\u001b[0m\u001b[1;33m,\u001b[0m \u001b[0mY\u001b[0m\u001b[1;33m)\u001b[0m\u001b[1;33m\u001b[0m\u001b[1;33m\u001b[0m\u001b[0m\n\u001b[0m\u001b[0;32m   1352\u001b[0m \u001b[1;33m\u001b[0m\u001b[0m\n\u001b[0;32m   1353\u001b[0m     \u001b[0mX_normalized\u001b[0m \u001b[1;33m=\u001b[0m \u001b[0mnormalize\u001b[0m\u001b[1;33m(\u001b[0m\u001b[0mX\u001b[0m\u001b[1;33m,\u001b[0m \u001b[0mcopy\u001b[0m\u001b[1;33m=\u001b[0m\u001b[1;32mTrue\u001b[0m\u001b[1;33m)\u001b[0m\u001b[1;33m\u001b[0m\u001b[1;33m\u001b[0m\u001b[0m\n",
      "\u001b[1;32mc:\\Users\\madha\\AppData\\Local\\Programs\\Python\\Python39\\lib\\site-packages\\sklearn\\metrics\\pairwise.py\u001b[0m in \u001b[0;36mcheck_pairwise_arrays\u001b[1;34m(X, Y, precomputed, dtype, accept_sparse, force_all_finite, copy)\u001b[0m\n\u001b[0;32m    154\u001b[0m         )\n\u001b[0;32m    155\u001b[0m     \u001b[1;32melse\u001b[0m\u001b[1;33m:\u001b[0m\u001b[1;33m\u001b[0m\u001b[1;33m\u001b[0m\u001b[0m\n\u001b[1;32m--> 156\u001b[1;33m         X = check_array(\n\u001b[0m\u001b[0;32m    157\u001b[0m             \u001b[0mX\u001b[0m\u001b[1;33m,\u001b[0m\u001b[1;33m\u001b[0m\u001b[1;33m\u001b[0m\u001b[0m\n\u001b[0;32m    158\u001b[0m             \u001b[0maccept_sparse\u001b[0m\u001b[1;33m=\u001b[0m\u001b[0maccept_sparse\u001b[0m\u001b[1;33m,\u001b[0m\u001b[1;33m\u001b[0m\u001b[1;33m\u001b[0m\u001b[0m\n",
      "\u001b[1;32mc:\\Users\\madha\\AppData\\Local\\Programs\\Python\\Python39\\lib\\site-packages\\sklearn\\utils\\validation.py\u001b[0m in \u001b[0;36mcheck_array\u001b[1;34m(array, accept_sparse, accept_large_sparse, dtype, order, copy, force_all_finite, ensure_2d, allow_nd, ensure_min_samples, ensure_min_features, estimator, input_name)\u001b[0m\n\u001b[0;32m    891\u001b[0m \u001b[1;33m\u001b[0m\u001b[0m\n\u001b[0;32m    892\u001b[0m         \u001b[1;32mif\u001b[0m \u001b[1;32mnot\u001b[0m \u001b[0mallow_nd\u001b[0m \u001b[1;32mand\u001b[0m \u001b[0marray\u001b[0m\u001b[1;33m.\u001b[0m\u001b[0mndim\u001b[0m \u001b[1;33m>=\u001b[0m \u001b[1;36m3\u001b[0m\u001b[1;33m:\u001b[0m\u001b[1;33m\u001b[0m\u001b[1;33m\u001b[0m\u001b[0m\n\u001b[1;32m--> 893\u001b[1;33m             raise ValueError(\n\u001b[0m\u001b[0;32m    894\u001b[0m                 \u001b[1;34m\"Found array with dim %d. %s expected <= 2.\"\u001b[0m\u001b[1;33m\u001b[0m\u001b[1;33m\u001b[0m\u001b[0m\n\u001b[0;32m    895\u001b[0m                 \u001b[1;33m%\u001b[0m \u001b[1;33m(\u001b[0m\u001b[0marray\u001b[0m\u001b[1;33m.\u001b[0m\u001b[0mndim\u001b[0m\u001b[1;33m,\u001b[0m \u001b[0mestimator_name\u001b[0m\u001b[1;33m)\u001b[0m\u001b[1;33m\u001b[0m\u001b[1;33m\u001b[0m\u001b[0m\n",
      "\u001b[1;31mValueError\u001b[0m: Found array with dim 3. check_pairwise_arrays expected <= 2."
     ]
    }
   ],
   "source": [
    "from sklearn.metrics.pairwise import cosine_similarity\n",
    "\n",
    "# Get LDA topics for resume and job description\n",
    "resume_topics = lda_model[corpus[0]]\n",
    "job_description_topics = lda_model[corpus[1]]\n",
    "\n",
    "# Calculate cosine similarity\n",
    "similarity_score = cosine_similarity([resume_topics], [job_description_topics])[0][0]\n"
   ]
  },
  {
   "cell_type": "code",
   "execution_count": 23,
   "metadata": {},
   "outputs": [
    {
     "data": {
      "text/plain": [
       "(3, 0.97631586)"
      ]
     },
     "execution_count": 23,
     "metadata": {},
     "output_type": "execute_result"
    }
   ],
   "source": [
    "job_description_topics[1]"
   ]
  },
  {
   "cell_type": "code",
   "execution_count": 24,
   "metadata": {},
   "outputs": [
    {
     "ename": "ValueError",
     "evalue": "Found array with dim 3. check_pairwise_arrays expected <= 2.",
     "output_type": "error",
     "traceback": [
      "\u001b[1;31m---------------------------------------------------------------------------\u001b[0m",
      "\u001b[1;31mValueError\u001b[0m                                Traceback (most recent call last)",
      "\u001b[1;32m~\\AppData\\Local\\Temp\\ipykernel_25660\\59789011.py\u001b[0m in \u001b[0;36m<cell line: 1>\u001b[1;34m()\u001b[0m\n\u001b[1;32m----> 1\u001b[1;33m \u001b[0mcosine_similarity\u001b[0m\u001b[1;33m(\u001b[0m\u001b[1;33m[\u001b[0m\u001b[0mresume_topics\u001b[0m\u001b[1;33m]\u001b[0m\u001b[1;33m,\u001b[0m \u001b[1;33m[\u001b[0m\u001b[0mjob_description_topics\u001b[0m\u001b[1;33m[\u001b[0m\u001b[1;36m1\u001b[0m\u001b[1;33m]\u001b[0m\u001b[1;33m]\u001b[0m\u001b[1;33m)\u001b[0m\u001b[1;33m\u001b[0m\u001b[1;33m\u001b[0m\u001b[0m\n\u001b[0m",
      "\u001b[1;32mc:\\Users\\madha\\AppData\\Local\\Programs\\Python\\Python39\\lib\\site-packages\\sklearn\\metrics\\pairwise.py\u001b[0m in \u001b[0;36mcosine_similarity\u001b[1;34m(X, Y, dense_output)\u001b[0m\n\u001b[0;32m   1349\u001b[0m     \u001b[1;31m# to avoid recursive import\u001b[0m\u001b[1;33m\u001b[0m\u001b[1;33m\u001b[0m\u001b[1;33m\u001b[0m\u001b[0m\n\u001b[0;32m   1350\u001b[0m \u001b[1;33m\u001b[0m\u001b[0m\n\u001b[1;32m-> 1351\u001b[1;33m     \u001b[0mX\u001b[0m\u001b[1;33m,\u001b[0m \u001b[0mY\u001b[0m \u001b[1;33m=\u001b[0m \u001b[0mcheck_pairwise_arrays\u001b[0m\u001b[1;33m(\u001b[0m\u001b[0mX\u001b[0m\u001b[1;33m,\u001b[0m \u001b[0mY\u001b[0m\u001b[1;33m)\u001b[0m\u001b[1;33m\u001b[0m\u001b[1;33m\u001b[0m\u001b[0m\n\u001b[0m\u001b[0;32m   1352\u001b[0m \u001b[1;33m\u001b[0m\u001b[0m\n\u001b[0;32m   1353\u001b[0m     \u001b[0mX_normalized\u001b[0m \u001b[1;33m=\u001b[0m \u001b[0mnormalize\u001b[0m\u001b[1;33m(\u001b[0m\u001b[0mX\u001b[0m\u001b[1;33m,\u001b[0m \u001b[0mcopy\u001b[0m\u001b[1;33m=\u001b[0m\u001b[1;32mTrue\u001b[0m\u001b[1;33m)\u001b[0m\u001b[1;33m\u001b[0m\u001b[1;33m\u001b[0m\u001b[0m\n",
      "\u001b[1;32mc:\\Users\\madha\\AppData\\Local\\Programs\\Python\\Python39\\lib\\site-packages\\sklearn\\metrics\\pairwise.py\u001b[0m in \u001b[0;36mcheck_pairwise_arrays\u001b[1;34m(X, Y, precomputed, dtype, accept_sparse, force_all_finite, copy)\u001b[0m\n\u001b[0;32m    154\u001b[0m         )\n\u001b[0;32m    155\u001b[0m     \u001b[1;32melse\u001b[0m\u001b[1;33m:\u001b[0m\u001b[1;33m\u001b[0m\u001b[1;33m\u001b[0m\u001b[0m\n\u001b[1;32m--> 156\u001b[1;33m         X = check_array(\n\u001b[0m\u001b[0;32m    157\u001b[0m             \u001b[0mX\u001b[0m\u001b[1;33m,\u001b[0m\u001b[1;33m\u001b[0m\u001b[1;33m\u001b[0m\u001b[0m\n\u001b[0;32m    158\u001b[0m             \u001b[0maccept_sparse\u001b[0m\u001b[1;33m=\u001b[0m\u001b[0maccept_sparse\u001b[0m\u001b[1;33m,\u001b[0m\u001b[1;33m\u001b[0m\u001b[1;33m\u001b[0m\u001b[0m\n",
      "\u001b[1;32mc:\\Users\\madha\\AppData\\Local\\Programs\\Python\\Python39\\lib\\site-packages\\sklearn\\utils\\validation.py\u001b[0m in \u001b[0;36mcheck_array\u001b[1;34m(array, accept_sparse, accept_large_sparse, dtype, order, copy, force_all_finite, ensure_2d, allow_nd, ensure_min_samples, ensure_min_features, estimator, input_name)\u001b[0m\n\u001b[0;32m    891\u001b[0m \u001b[1;33m\u001b[0m\u001b[0m\n\u001b[0;32m    892\u001b[0m         \u001b[1;32mif\u001b[0m \u001b[1;32mnot\u001b[0m \u001b[0mallow_nd\u001b[0m \u001b[1;32mand\u001b[0m \u001b[0marray\u001b[0m\u001b[1;33m.\u001b[0m\u001b[0mndim\u001b[0m \u001b[1;33m>=\u001b[0m \u001b[1;36m3\u001b[0m\u001b[1;33m:\u001b[0m\u001b[1;33m\u001b[0m\u001b[1;33m\u001b[0m\u001b[0m\n\u001b[1;32m--> 893\u001b[1;33m             raise ValueError(\n\u001b[0m\u001b[0;32m    894\u001b[0m                 \u001b[1;34m\"Found array with dim %d. %s expected <= 2.\"\u001b[0m\u001b[1;33m\u001b[0m\u001b[1;33m\u001b[0m\u001b[0m\n\u001b[0;32m    895\u001b[0m                 \u001b[1;33m%\u001b[0m \u001b[1;33m(\u001b[0m\u001b[0marray\u001b[0m\u001b[1;33m.\u001b[0m\u001b[0mndim\u001b[0m\u001b[1;33m,\u001b[0m \u001b[0mestimator_name\u001b[0m\u001b[1;33m)\u001b[0m\u001b[1;33m\u001b[0m\u001b[1;33m\u001b[0m\u001b[0m\n",
      "\u001b[1;31mValueError\u001b[0m: Found array with dim 3. check_pairwise_arrays expected <= 2."
     ]
    }
   ],
   "source": [
    "cosine_similarity([resume_topics], [job_description_topics[1]])"
   ]
  },
  {
   "cell_type": "code",
   "execution_count": null,
   "metadata": {},
   "outputs": [],
   "source": []
  }
 ],
 "metadata": {
  "kernelspec": {
   "display_name": "Python 3",
   "language": "python",
   "name": "python3"
  },
  "language_info": {
   "codemirror_mode": {
    "name": "ipython",
    "version": 3
   },
   "file_extension": ".py",
   "mimetype": "text/x-python",
   "name": "python",
   "nbconvert_exporter": "python",
   "pygments_lexer": "ipython3",
   "version": "3.9.4"
  }
 },
 "nbformat": 4,
 "nbformat_minor": 2
}
